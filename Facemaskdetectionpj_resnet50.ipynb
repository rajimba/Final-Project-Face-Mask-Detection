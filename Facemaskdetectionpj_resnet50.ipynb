{
 "cells": [
  {
   "cell_type": "code",
   "execution_count": null,
   "id": "d413fb84-85f5-4084-91ce-52dda928fdf8",
   "metadata": {},
   "outputs": [
    {
     "name": "stdout",
     "output_type": "stream",
     "text": [
      "Found 3069 images belonging to 2 classes.\n",
      "Found 764 images belonging to 2 classes.\n"
     ]
    },
    {
     "name": "stderr",
     "output_type": "stream",
     "text": [
      "c:\\Users\\rajij\\anaconda3\\Lib\\site-packages\\keras\\optimizers\\legacy\\adam.py:117: UserWarning: The `lr` argument is deprecated, use `learning_rate` instead.\n",
      "  super().__init__(name, **kwargs)\n"
     ]
    },
    {
     "name": "stdout",
     "output_type": "stream",
     "text": [
      "Epoch 1/10\n",
      "25/95 [======>.......................] - ETA: 4:11 - loss: 0.7375 - accuracy: 0.4775"
     ]
    },
    {
     "name": "stderr",
     "output_type": "stream",
     "text": [
      "c:\\Users\\rajij\\anaconda3\\Lib\\site-packages\\PIL\\Image.py:981: UserWarning: Palette images with Transparency expressed in bytes should be converted to RGBA images\n",
      "  warnings.warn(\n"
     ]
    },
    {
     "name": "stdout",
     "output_type": "stream",
     "text": [
      "95/95 [==============================] - 409s 4s/step - loss: 0.7191 - accuracy: 0.5035 - val_loss: 0.6907 - val_accuracy: 0.6060\n",
      "Epoch 2/10\n",
      "95/95 [==============================] - 396s 4s/step - loss: 0.7111 - accuracy: 0.5114 - val_loss: 0.6923 - val_accuracy: 0.5014\n",
      "Epoch 3/10\n",
      "95/95 [==============================] - 388s 4s/step - loss: 0.7087 - accuracy: 0.5147 - val_loss: 0.6926 - val_accuracy: 0.4973\n",
      "Epoch 4/10\n",
      "95/95 [==============================] - 391s 4s/step - loss: 0.6979 - accuracy: 0.5199 - val_loss: 0.6960 - val_accuracy: 0.5000\n",
      "Epoch 5/10\n",
      "95/95 [==============================] - 394s 4s/step - loss: 0.6987 - accuracy: 0.5258 - val_loss: 0.6905 - val_accuracy: 0.5054\n",
      "Epoch 6/10\n",
      "95/95 [==============================] - 388s 4s/step - loss: 0.6968 - accuracy: 0.5216 - val_loss: 0.6930 - val_accuracy: 0.5000\n",
      "Epoch 7/10\n",
      "95/95 [==============================] - 386s 4s/step - loss: 0.6895 - accuracy: 0.5336 - val_loss: 0.6891 - val_accuracy: 0.5177\n",
      "Epoch 8/10\n",
      "95/95 [==============================] - 390s 4s/step - loss: 0.6881 - accuracy: 0.5341 - val_loss: 0.6897 - val_accuracy: 0.5054\n",
      "Epoch 9/10\n",
      "95/95 [==============================] - 389s 4s/step - loss: 0.6882 - accuracy: 0.5400 - val_loss: 0.6910 - val_accuracy: 0.5027\n",
      "Epoch 10/10\n",
      "95/95 [==============================] - 400s 4s/step - loss: 0.6837 - accuracy: 0.5555 - val_loss: 0.6899 - val_accuracy: 0.5054\n",
      "24/24 [==============================] - 78s 3s/step\n",
      "Accuracy: 0.5\n",
      "Precision: 0.5\n",
      "Recall: 0.9947643979057592\n",
      "F1-score: 0.6654991243432574\n",
      "Confusion Matrix:\n",
      "[[  2 380]\n",
      " [  2 380]]\n"
     ]
    },
    {
     "data": {
      "image/png": "[encoded data removed]",
      "text/plain": [
       "<Figure size 600x600 with 2 Axes>"
      ]
     },
     "metadata": {},
     "output_type": "display_data"
    },
    {
     "name": "stdout",
     "output_type": "stream",
     "text": [
      "1/1 [==============================] - 2s 2s/step\n",
      "1/1 [==============================] - 2s 2s/step\n",
      "No mask detected.\n",
      "1/1 [==============================] - 0s 165ms/step\n",
      "No mask detected.\n"
     ]
    }
   ],
   "source": [
    "import tensorflow as tf\n",
    "from keras.preprocessing.image import ImageDataGenerator\n",
    "from keras.applications import ResNet50\n",
    "from keras.layers import Dense, GlobalAveragePooling2D, Dropout\n",
    "from keras.models import Model\n",
    "from keras.optimizers import Adam\n",
    "from sklearn.metrics import accuracy_score, precision_score, recall_score, f1_score, confusion_matrix\n",
    "import numpy as np\n",
    "import matplotlib.pyplot as plt\n",
    "from keras.callbacks import EarlyStopping\n",
    "from keras.callbacks import ModelCheckpoint\n",
    "from keras.callbacks import ReduceLROnPlateau\n",
    "\n",
    "# Load the dataset (assuming images are in 'train' and 'val' directories with subfolders for 'mask' and 'no_mask')\n",
    "train_dir = 'C:/Users/rajij/Downloads/dataset/train'\n",
    "val_dir = 'C:/Users/rajij/Downloads/dataset/test'\n",
    "\n",
    "# Data Preprocessing: Rescale images and apply augmentation to training images\n",
    "train_datagen = ImageDataGenerator(\n",
    "    rescale=1./255,\n",
    "    rotation_range=30,\n",
    "    width_shift_range=0.2,\n",
    "    height_shift_range=0.2,\n",
    "    shear_range=0.2,\n",
    "    zoom_range=0.2,\n",
    "    horizontal_flip=True,\n",
    "    fill_mode='nearest')\n",
    "\n",
    "val_datagen = ImageDataGenerator(rescale=1./255)\n",
    "\n",
    "train_generator = train_datagen.flow_from_directory(\n",
    "    train_dir,\n",
    "    target_size=(224, 224),\n",
    "    batch_size=32,\n",
    "    class_mode='binary')  # Assuming binary classification (mask or no mask)\n",
    "\n",
    "validation_generator = val_datagen.flow_from_directory(\n",
    "    val_dir,\n",
    "    target_size=(224, 224),\n",
    "    batch_size=32,\n",
    "    class_mode='binary')\n",
    "\n",
    "# Load the pretrained ResNet50 model\n",
    "base_model = ResNet50(weights='imagenet', include_top=False, input_shape=(224, 224, 3))\n",
    "\n",
    "# Add custom layers for binary classification\n",
    "x = base_model.output\n",
    "x = GlobalAveragePooling2D()(x)\n",
    "x = Dropout(0.5)(x)\n",
    "x = Dense(1024, activation='relu')(x)\n",
    "predictions = Dense(1, activation='sigmoid')(x)  # Sigmoid for binary classification\n",
    "\n",
    "model_resnet50 = Model(inputs=base_model.input, outputs=predictions)\n",
    "\n",
    "# Freeze the base layers of ResNet50 and train only the custom layers\n",
    "for layer in base_model.layers:\n",
    "    layer.trainable = False\n",
    "\n",
    "# Compile the model\n",
    "model_resnet50.compile(optimizer=Adam(lr=1.0000e-05), loss='binary_crossentropy', metrics=['accuracy'])\n",
    "\n",
    "#using early stopping to prevent model overfitting\n",
    "\n",
    "early_stopping = EarlyStopping(monitor='val_loss', patience=5, restore_best_weights=True)\n",
    "# checkpoint = ModelCheckpoint('best_model.h5', monitor='val_loss', save_best_only=True)\n",
    "# lr_scheduler = ReduceLROnPlateau(monitor='val_loss', factor=0.5, patience=3, verbose=1)\n",
    "\n",
    "# Train the model\n",
    "history = model_resnet50.fit(\n",
    "    train_generator,\n",
    "    steps_per_epoch=train_generator.samples // train_generator.batch_size,\n",
    "    epochs=10,\n",
    "    validation_data=validation_generator,\n",
    "    validation_steps=validation_generator.samples // validation_generator.batch_size,\n",
    "    callbacks=[early_stopping])\n",
    "\n",
    "# Evaluate the model on validation data\n",
    "val_labels = validation_generator.classes  # Actual labels\n",
    "y_pred_probs = model_resnet50.predict(validation_generator)  # Predicted probabilities\n",
    "y_pred = (y_pred_probs > 0.5).astype(int)  # Convert probabilities to binary predictions\n",
    "\n",
    "# Calculate the evaluation metrics\n",
    "accuracy = accuracy_score(val_labels, y_pred)\n",
    "precision = precision_score(val_labels, y_pred)\n",
    "recall = recall_score(val_labels, y_pred)\n",
    "f1 = f1_score(val_labels, y_pred)\n",
    "conf_matrix = confusion_matrix(val_labels, y_pred)\n",
    "\n",
    "# Print evaluation results\n",
    "print(f'Accuracy: {accuracy}')\n",
    "print(f'Precision: {precision}')\n",
    "print(f'Recall: {recall}')\n",
    "print(f'F1-score: {f1}')\n",
    "print(f'Confusion Matrix:\\n{conf_matrix}')\n",
    "\n",
    "# Optionally plot confusion matrix\n",
    "plt.figure(figsize=(6, 6))\n",
    "plt.imshow(conf_matrix, interpolation='nearest', cmap=plt.cm.Blues)\n",
    "plt.title('Confusion Matrix')\n",
    "plt.colorbar()\n",
    "tick_marks = np.arange(2)\n",
    "plt.xticks(tick_marks, ['No Mask', 'Mask'], rotation=45)\n",
    "plt.yticks(tick_marks, ['No Mask', 'Mask'])\n",
    "plt.xlabel('Predicted label')\n",
    "plt.ylabel('True label')\n",
    "plt.show()\n",
    "\n",
    "\n",
    "#Make Prediction\n",
    "#with mask\n",
    "\n",
    "import cv2\n",
    "import numpy as np\n",
    "\n",
    "# Load an image\n",
    "img_path = 'C:/Users/rajij/Downloads/testmodel1.jpg'\n",
    "img = cv2.imread(img_path)\n",
    "img = cv2.cvtColor(img, cv2.COLOR_BGR2RGB)\n",
    "img = cv2.resize(img, (224, 224))  # Resize to 224x224\n",
    "img = np.expand_dims(img, axis=0)  # Add batch dimension\n",
    "img = img / 255.0  # Rescale\n",
    "\n",
    "# Make prediction\n",
    "prediction = model_resnet50.predict(img)\n",
    "if prediction[0] > 0.5:\n",
    "    print(\"Mask detected!\")\n",
    "else:\n",
    "    print(\"No mask detected.\")\n",
    "\n",
    "#Make Prediction\n",
    "#without mask\n",
    "# \n",
    "# Load an image\n",
    "img_path = 'C:/Users/rajij/Downloads/testmodel3_no.jpg'\n",
    "img = cv2.imread(img_path)\n",
    "img = cv2.cvtColor(img, cv2.COLOR_BGR2RGB)\n",
    "img = cv2.resize(img, (224, 224))  # Resize to 224x224\n",
    "img = np.expand_dims(img, axis=0)  # Add batch dimension\n",
    "img = img / 255.0  # Rescale\n",
    "\n",
    "# Make prediction\n",
    "prediction = model_resnet50.predict(img)\n",
    "if prediction[0] > 0.5:\n",
    "    print(\"Mask detected!\")\n",
    "else:\n",
    "    print(\"No mask detected.\")    "
   ]
  },
  {
   "cell_type": "code",
   "execution_count": null,
   "metadata": {},
   "outputs": [
    {
     "name": "stdout",
     "output_type": "stream",
     "text": [
      "1/1 [==============================] - 0s 262ms/step\n",
      "No mask detected.\n",
      "1/1 [==============================] - 0s 262ms/step\n",
      "No mask detected.\n"
     ]
    }
   ],
   "source": [
    "img_path = 'C:/Users/rajij/Downloads/testmodel5.jpg'\n",
    "img = cv2.imread(img_path)\n",
    "img = cv2.cvtColor(img, cv2.COLOR_BGR2RGB)\n",
    "img = cv2.resize(img, (224, 224))  # Resize to 224x224\n",
    "img = np.expand_dims(img, axis=0)  # Add batch dimension\n",
    "img = img / 255.0  # Rescale\n",
    "\n",
    "# Make prediction\n",
    "prediction = model_resnet50.predict(img)\n",
    "if prediction[0] > 0.5:\n",
    "    print(\"Mask detected!\")\n",
    "else:\n",
    "    print(\"No mask detected.\")"
   ]
  },
  {
   "cell_type": "code",
   "execution_count": null,
   "metadata": {},
   "outputs": [
    {
     "name": "stdout",
     "output_type": "stream",
     "text": [
      "1/1 [==============================] - 0s 303ms/step\n",
      "No mask detected.\n",
      "1/1 [==============================] - 0s 303ms/step\n",
      "No mask detected.\n"
     ]
    }
   ],
   "source": [
    "img_path = 'C:/Users/rajij/Downloads/testmodel6_no.jpg'\n",
    "img = cv2.imread(img_path)\n",
    "img = cv2.cvtColor(img, cv2.COLOR_BGR2RGB)\n",
    "img = cv2.resize(img, (224, 224))  # Resize to 224x224\n",
    "img = np.expand_dims(img, axis=0)  # Add batch dimension\n",
    "img = img / 255.0  # Rescale\n",
    "\n",
    "# Make prediction\n",
    "prediction = model_resnet50.predict(img)\n",
    "if prediction[0] > 0.5:\n",
    "    print(\"Mask detected!\")\n",
    "else:\n",
    "    print(\"No mask detected.\")"
   ]
  },
  {
   "cell_type": "code",
   "execution_count": null,
   "metadata": {},
   "outputs": [
    {
     "name": "stdout",
     "output_type": "stream",
     "text": [
      "1/1 [==============================] - 0s 257ms/step\n",
      "Mask detected!\n",
      "1/1 [==============================] - 0s 257ms/step\n",
      "Mask detected!\n"
     ]
    }
   ],
   "source": [
    "img_path = 'C:/Users/rajij/Downloads/testmodel4.jpg'\n",
    "img = cv2.imread(img_path)\n",
    "img = cv2.cvtColor(img, cv2.COLOR_BGR2RGB)\n",
    "img = cv2.resize(img, (224, 224))  # Resize to 224x224\n",
    "img = np.expand_dims(img, axis=0)  # Add batch dimension\n",
    "img = img / 255.0  # Rescale\n",
    "\n",
    "# Make prediction\n",
    "prediction = model_resnet50.predict(img)\n",
    "if prediction[0] > 0.5:\n",
    "    print(\"Mask detected!\")\n",
    "else:\n",
    "    print(\"No mask detected.\")"
   ]
  }
 ],
 "metadata": {
  "language_info": {
   "codemirror_mode": {
    "name": "ipython",
    "version": 3
   },
   "file_extension": ".py",
   "mimetype": "text/x-python",
   "name": "python",
   "nbconvert_exporter": "python",
   "pygments_lexer": "ipython3",
   "version": 3
  }
 },
 "nbformat": 4,
 "nbformat_minor": 2
}
