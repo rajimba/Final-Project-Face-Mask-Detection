{
 "cells": [
  {
   "cell_type": "code",
   "execution_count": null,
   "id": "2f19ec0e-0376-4715-bef5-3313b70b5f5c",
   "metadata": {},
   "outputs": [
    {
     "name": "stdout",
     "output_type": "stream",
     "text": [
      "Found 3069 images belonging to 2 classes.\n",
      "Found 764 images belonging to 2 classes.\n",
      "Epoch 1/10\n",
      "25/95 [======>.......................] - ETA: 1:22 - loss: 0.7083 - accuracy: 0.6538"
     ]
    },
    {
     "name": "stderr",
     "output_type": "stream",
     "text": [
      "c:\\Users\\rajij\\anaconda3\\Lib\\site-packages\\PIL\\Image.py:981: UserWarning: Palette images with Transparency expressed in bytes should be converted to RGBA images\n",
      "  warnings.warn(\n"
     ]
    },
    {
     "name": "stdout",
     "output_type": "stream",
     "text": [
      "95/95 [==============================] - 122s 1s/step - loss: 0.4404 - accuracy: 0.8143 - val_loss: 0.1592 - val_accuracy: 0.9511\n",
      "Epoch 2/10\n",
      "95/95 [==============================] - 105s 1s/step - loss: 0.2161 - accuracy: 0.9210 - val_loss: 0.1439 - val_accuracy: 0.9552\n",
      "Epoch 3/10\n",
      "95/95 [==============================] - 100s 1s/step - loss: 0.1837 - accuracy: 0.9299 - val_loss: 0.1474 - val_accuracy: 0.9524\n",
      "Epoch 4/10\n",
      "95/95 [==============================] - 101s 1s/step - loss: 0.1747 - accuracy: 0.9272 - val_loss: 0.1860 - val_accuracy: 0.9429\n",
      "Epoch 5/10\n",
      "95/95 [==============================] - 105s 1s/step - loss: 0.1518 - accuracy: 0.9450 - val_loss: 0.1053 - val_accuracy: 0.9606\n",
      "Epoch 6/10\n",
      "95/95 [==============================] - 98s 1s/step - loss: 0.1286 - accuracy: 0.9529 - val_loss: 0.0856 - val_accuracy: 0.9688\n",
      "Epoch 7/10\n",
      "95/95 [==============================] - 98s 1s/step - loss: 0.1204 - accuracy: 0.9542 - val_loss: 0.1159 - val_accuracy: 0.9606\n",
      "Epoch 8/10\n",
      "95/95 [==============================] - 96s 997ms/step - loss: 0.1148 - accuracy: 0.9598 - val_loss: 0.0892 - val_accuracy: 0.9701\n",
      "Epoch 9/10\n",
      "95/95 [==============================] - 96s 1s/step - loss: 0.0938 - accuracy: 0.9651 - val_loss: 0.0722 - val_accuracy: 0.9755\n",
      "Epoch 10/10\n",
      "95/95 [==============================] - 100s 1s/step - loss: 0.0766 - accuracy: 0.9700 - val_loss: 0.1126 - val_accuracy: 0.9674\n",
      "[0 0 0 0 0 0 0 0 0 0 0 0 0 0 0 0 0 0 0 0 0 0 0 0 0 0 0 0 0 0 0 0 0 0 0 0 0\n",
      " 0 0 0 0 0 0 0 0 0 0 0 0 0 0 0 0 0 0 0 0 0 0 0 0 0 0 0 0 0 0 0 0 0 0 0 0 0\n",
      " 0 0 0 0 0 0 0 0 0 0 0 0 0 0 0 0 0 0 0 0 0 0 0 0 0 0 0 0 0 0 0 0 0 0 0 0 0\n",
      " 0 0 0 0 0 0 0 0 0 0 0 0 0 0 0 0 0 0 0 0 0 0 0 0 0 0 0 0 0 0 0 0 0 0 0 0 0\n",
      " 0 0 0 0 0 0 0 0 0 0 0 0 0 0 0 0 0 0 0 0 0 0 0 0 0 0 0 0 0 0 0 0 0 0 0 0 0\n",
      " 0 0 0 0 0 0 0 0 0 0 0 0 0 0 0 0 0 0 0 0 0 0 0 0 0 0 0 0 0 0 0 0 0 0 0 0 0\n",
      " 0 0 0 0 0 0 0 0 0 0 0 0 0 0 0 0 0 0 0 0 0 0 0 0 0 0 0 0 0 0 0 0 0 0 0 0 0\n",
      " 0 0 0 0 0 0 0 0 0 0 0 0 0 0 0 0 0 0 0 0 0 0 0 0 0 0 0 0 0 0 0 0 0 0 0 0 0\n",
      " 0 0 0 0 0 0 0 0 0 0 0 0 0 0 0 0 0 0 0 0 0 0 0 0 0 0 0 0 0 0 0 0 0 0 0 0 0\n",
      " 0 0 0 0 0 0 0 0 0 0 0 0 0 0 0 0 0 0 0 0 0 0 0 0 0 0 0 0 0 0 0 0 0 0 0 0 0\n",
      " 0 0 0 0 0 0 0 0 0 0 0 0 1 1 1 1 1 1 1 1 1 1 1 1 1 1 1 1 1 1 1 1 1 1 1 1 1\n",
      " 1 1 1 1 1 1 1 1 1 1 1 1 1 1 1 1 1 1 1 1 1 1 1 1 1 1 1 1 1 1 1 1 1 1 1 1 1\n",
      " 1 1 1 1 1 1 1 1 1 1 1 1 1 1 1 1 1 1 1 1 1 1 1 1 1 1 1 1 1 1 1 1 1 1 1 1 1\n",
      " 1 1 1 1 1 1 1 1 1 1 1 1 1 1 1 1 1 1 1 1 1 1 1 1 1 1 1 1 1 1 1 1 1 1 1 1 1\n",
      " 1 1 1 1 1 1 1 1 1 1 1 1 1 1 1 1 1 1 1 1 1 1 1 1 1 1 1 1 1 1 1 1 1 1 1 1 1\n",
      " 1 1 1 1 1 1 1 1 1 1 1 1 1 1 1 1 1 1 1 1 1 1 1 1 1 1 1 1 1 1 1 1 1 1 1 1 1\n",
      " 1 1 1 1 1 1 1 1 1 1 1 1 1 1 1 1 1 1 1 1 1 1 1 1 1 1 1 1 1 1 1 1 1 1 1 1 1\n",
      " 1 1 1 1 1 1 1 1 1 1 1 1 1 1 1 1 1 1 1 1 1 1 1 1 1 1 1 1 1 1 1 1 1 1 1 1 1\n",
      " 1 1 1 1 1 1 1 1 1 1 1 1 1 1 1 1 1 1 1 1 1 1 1 1 1 1 1 1 1 1 1 1 1 1 1 1 1\n",
      " 1 1 1 1 1 1 1 1 1 1 1 1 1 1 1 1 1 1 1 1 1 1 1 1 1 1 1 1 1 1 1 1 1 1 1 1 1\n",
      " 1 1 1 1 1 1 1 1 1 1 1 1 1 1 1 1 1 1 1 1 1 1 1 1]\n",
      "24/24 [==============================] - 5s 208ms/step\n"
     ]
    },
    {
     "ename": "NameError",
     "evalue": "name 'accuracy_score' is not defined",
     "output_type": "error",
     "traceback": [
      "\u001b[1;31m---------------------------------------------------------------------------\u001b[0m",
      "\u001b[1;31mNameError\u001b[0m                                 Traceback (most recent call last)",
      "Cell \u001b[1;32mIn[1], line 71\u001b[0m\n\u001b[0;32m     68\u001b[0m y_pred \u001b[39m=\u001b[39m (y_pred_probs \u001b[39m>\u001b[39m \u001b[39m0.5\u001b[39m)\u001b[39m.\u001b[39mastype(\u001b[39mint\u001b[39m)  \n\u001b[0;32m     70\u001b[0m \u001b[39m# Calculate the evaluation metrics\u001b[39;00m\n\u001b[1;32m---> 71\u001b[0m accuracy \u001b[39m=\u001b[39m accuracy_score(val_labels, y_pred)\n\u001b[0;32m     72\u001b[0m precision \u001b[39m=\u001b[39m precision_score(val_labels, y_pred)\n\u001b[0;32m     73\u001b[0m recall \u001b[39m=\u001b[39m recall_score(val_labels, y_pred)\n",
      "\u001b[1;31mNameError\u001b[0m: name 'accuracy_score' is not defined"
     ]
    }
   ],
   "source": [
    "import tensorflow as tf\n",
    "from tensorflow import keras\n",
    "from tensorflow.keras import layers, models\n",
    "from tensorflow.keras.preprocessing.image import ImageDataGenerator\n",
    "from tensorflow.keras.callbacks import EarlyStopping\n",
    "import matplotlib.pyplot as plt\n",
    "\n",
    "from tensorflow.keras.models import Sequential\n",
    "from tensorflow.keras.layers import Conv2D, MaxPooling2D, Flatten, Dense\n",
    "\n",
    "\n",
    "\n",
    "\n",
    "train_datagen = ImageDataGenerator(rescale=1./255,\n",
    "                                   shear_range=0.2,\n",
    "                                   zoom_range=0.2,\n",
    "                                   horizontal_flip=True)\n",
    "\n",
    "test_datagen = ImageDataGenerator(rescale=1./255)\n",
    "\n",
    "train_dir = 'C:/Users/rajij/Downloads/dataset/train'\n",
    "val_dir = 'C:/Users/rajij/Downloads/dataset/test'\n",
    "\n",
    "train_generator = train_datagen.flow_from_directory(train_dir,\n",
    "    target_size=(150, 150),\n",
    "    batch_size=32,\n",
    "    class_mode='binary')\n",
    "\n",
    "validation_generator = test_datagen.flow_from_directory(val_dir,\n",
    "    target_size=(150, 150),\n",
    "    batch_size=32,\n",
    "    class_mode='binary')\n",
    "\n",
    "model = models.Sequential([\n",
    "    layers.Conv2D(32, (3, 3), activation='relu', input_shape=(150, 150, 3)),\n",
    "    layers.MaxPooling2D((2, 2)),\n",
    "\n",
    "    layers.Conv2D(64, (3, 3), activation='relu'),\n",
    "    layers.MaxPooling2D((2, 2)),\n",
    "\n",
    "    layers.Conv2D(128, (3, 3), activation='relu'),\n",
    "    layers.MaxPooling2D((2, 2)),\n",
    "\n",
    "    layers.Flatten(),\n",
    "    layers.Dense(128, activation='relu'),\n",
    "    layers.Dense(1, activation='sigmoid')\n",
    "])\n",
    "\n",
    "model.compile(optimizer='adam',\n",
    "              loss='binary_crossentropy',\n",
    "              metrics=['accuracy'])\n",
    "\n",
    "early_stopping = EarlyStopping(monitor='val_loss', patience=3, restore_best_weights=True)\n",
    "\n",
    "history = model.fit(\n",
    "    train_generator,\n",
    "    steps_per_epoch=train_generator.samples // train_generator.batch_size,\n",
    "    epochs=10,\n",
    "    validation_data=validation_generator,\n",
    "    validation_steps=validation_generator.samples // validation_generator.batch_size,\n",
    "    callbacks=[early_stopping]\n",
    ")\n",
    "\n",
    "# Evaluate the model on validation data\n",
    "val_labels = validation_generator.classes\n",
    "print(val_labels)\n",
    "y_pred_probs = model.predict(validation_generator)  \n",
    "y_pred = (y_pred_probs > 0.5).astype(int)  \n",
    "\n",
    "# Calculate the evaluation metrics\n",
    "accuracy = accuracy_score(val_labels, y_pred)\n",
    "precision = precision_score(val_labels, y_pred)\n",
    "recall = recall_score(val_labels, y_pred)\n",
    "f1 = f1_score(val_labels, y_pred)\n",
    "conf_matrix = confusion_matrix(val_labels, y_pred)\n",
    "\n",
    "# Print evaluation results\n",
    "print(f'Accuracy: {accuracy}')\n",
    "print(f'Precision: {precision}')\n",
    "print(f'Recall: {recall}')\n",
    "print(f'F1-score: {f1}')\n",
    "print(f'Confusion Matrix:\\n{conf_matrix}')\n",
    "\n",
    "# Plot accuracy and loss\n",
    "plt.plot(history.history['accuracy'], label='train accuracy')\n",
    "plt.plot(history.history['val_accuracy'], label='val accuracy')\n",
    "plt.title('Model Accuracy')\n",
    "plt.legend(loc='upper left')\n",
    "plt.show()\n",
    "\n",
    "plt.plot(history.history['loss'], label='train loss')\n",
    "plt.plot(history.history['val_loss'], label='val loss')\n",
    "plt.title('Model Loss')\n",
    "plt.legend(loc='upper left')\n",
    "plt.show()"
   ]
  },
  {
   "cell_type": "code",
   "execution_count": null,
   "metadata": {},
   "outputs": [
    {
     "name": "stdout",
     "output_type": "stream",
     "text": [
      "Accuracy: 0.5013089005235603\n",
      "Precision: 0.5012285012285013\n",
      "Recall: 0.5340314136125655\n",
      "F1-score: 0.5171102661596958\n",
      "Confusion Matrix:\n",
      "[[179 203]\n",
      " [178 204]]\n"
     ]
    },
    {
     "data": {
      "image/png": "[encoded data removed]",
      "text/plain": [
       "<Figure size 640x480 with 1 Axes>"
      ]
     },
     "metadata": {},
     "output_type": "display_data"
    },
    {
     "data": {
      "image/png": "[encoded data removed]",
      "text/plain": [
       "<Figure size 640x480 with 1 Axes>"
      ]
     },
     "metadata": {},
     "output_type": "display_data"
    }
   ],
   "source": [
    "from sklearn.metrics import accuracy_score, precision_score, recall_score, f1_score, confusion_matrix\n",
    "import numpy as np\n",
    "\n",
    "# Calculate the evaluation metrics\n",
    "accuracy = accuracy_score(val_labels, y_pred)\n",
    "precision = precision_score(val_labels, y_pred)\n",
    "recall = recall_score(val_labels, y_pred)\n",
    "f1 = f1_score(val_labels, y_pred)\n",
    "conf_matrix = confusion_matrix(val_labels, y_pred)\n",
    "\n",
    "# Print evaluation results\n",
    "print(f'Accuracy: {accuracy}')\n",
    "print(f'Precision: {precision}')\n",
    "print(f'Recall: {recall}')\n",
    "print(f'F1-score: {f1}')\n",
    "print(f'Confusion Matrix:\\n{conf_matrix}')\n",
    "\n",
    "# Plot accuracy and loss\n",
    "plt.plot(history.history['accuracy'], label='train accuracy')\n",
    "plt.plot(history.history['val_accuracy'], label='val accuracy')\n",
    "plt.title('Model Accuracy')\n",
    "plt.legend(loc='upper left')\n",
    "plt.show()\n",
    "\n",
    "plt.plot(history.history['loss'], label='train loss')\n",
    "plt.plot(history.history['val_loss'], label='val loss')\n",
    "plt.title('Model Loss')\n",
    "plt.legend(loc='upper left')\n",
    "plt.show()"
   ]
  },
  {
   "cell_type": "code",
   "execution_count": null,
   "metadata": {},
   "outputs": [
    {
     "name": "stdout",
     "output_type": "stream",
     "text": [
      "{'with_mask': 0, 'without_mask': 1}\n"
     ]
    }
   ],
   "source": [
    "print(train_generator.class_indices)"
   ]
  },
  {
   "cell_type": "code",
   "execution_count": null,
   "metadata": {},
   "outputs": [],
   "source": [
    "import cv2\n",
    "import numpy as np\n",
    "\n"
   ]
  },
  {
   "cell_type": "code",
   "execution_count": null,
   "metadata": {},
   "outputs": [
    {
     "name": "stdout",
     "output_type": "stream",
     "text": [
      "1/1 [==============================] - 0s 41ms/step\n",
      "No, the person is not wearing a mask.\n",
      "1/1 [==============================] - 0s 41ms/step\n",
      "No, the person is not wearing a mask.\n"
     ]
    }
   ],
   "source": [
    "from keras.preprocessing import image\n",
    "import numpy as np\n",
    "from keras.utils import load_img, img_to_array # Import load_img and img_to_array from tensorflow.keras.utils\n",
    "\n",
    "\n",
    "#to make prediction\n",
    "\n",
    "img_path = 'C:/Users/rajij/Downloads/testmodel3_no.jpg'\n",
    "img = load_img(img_path, target_size=(150, 150)) # Use load_img from tensorflow.keras.utils\n",
    "img_array = img_to_array(img) # Use img_to_array from tensorflow.keras.utils\n",
    "img_array = np.expand_dims(img_array, axis=0)\n",
    "img_array /= 255.0  # Normalize image\n",
    "\n",
    "prediction = model.predict(img_array)\n",
    "if prediction > 0.5:\n",
    "    print(\"No, the person is not wearing a mask.\")\n",
    "else:\n",
    "    print(\"Yes, the person is wearing a mask.\")"
   ]
  },
  {
   "cell_type": "code",
   "execution_count": null,
   "metadata": {},
   "outputs": [
    {
     "name": "stdout",
     "output_type": "stream",
     "text": [
      "1/1 [==============================] - 0s 37ms/step\n",
      "Yes, the person is wearing a mask.\n",
      "1/1 [==============================] - 0s 37ms/step\n",
      "Yes, the person is wearing a mask.\n"
     ]
    }
   ],
   "source": [
    "from keras.preprocessing import image\n",
    "import numpy as np\n",
    "from keras.utils import load_img, img_to_array # Import load_img and img_to_array from tensorflow.keras.utils\n",
    "\n",
    "\n",
    "#to make prediction\n",
    "\n",
    "img_path = 'C:/Users/rajij/Downloads/testmodel2.jpg'\n",
    "img = load_img(img_path, target_size=(150, 150)) # Use load_img from tensorflow.keras.utils\n",
    "img_array = img_to_array(img) # Use img_to_array from tensorflow.keras.utils\n",
    "img_array = np.expand_dims(img_array, axis=0)\n",
    "img_array /= 255.0  # Normalize image\n",
    "\n",
    "prediction = model.predict(img_array)\n",
    "if prediction > 0.5:\n",
    "    print(\"No, the person is not wearing a mask.\")\n",
    "else:\n",
    "    print(\"Yes, the person is wearing a mask.\")"
   ]
  },
  {
   "cell_type": "code",
   "execution_count": null,
   "metadata": {},
   "outputs": [
    {
     "name": "stdout",
     "output_type": "stream",
     "text": [
      "1/1 [==============================] - 0s 36ms/step\n",
      "Yes, the person is wearing a mask.\n",
      "1/1 [==============================] - 0s 36ms/step\n",
      "Yes, the person is wearing a mask.\n"
     ]
    }
   ],
   "source": [
    "from keras.preprocessing import image\n",
    "import numpy as np\n",
    "from keras.utils import load_img, img_to_array # Import load_img and img_to_array from tensorflow.keras.utils\n",
    "\n",
    "\n",
    "#to make prediction\n",
    "\n",
    "img_path = 'C:/Users/rajij/Downloads/testmodel7.jpg'\n",
    "img = load_img(img_path, target_size=(150, 150)) # Use load_img from tensorflow.keras.utils\n",
    "img_array = img_to_array(img) # Use img_to_array from tensorflow.keras.utils\n",
    "img_array = np.expand_dims(img_array, axis=0)\n",
    "img_array /= 255.0  # Normalize image\n",
    "\n",
    "prediction = model.predict(img_array)\n",
    "if prediction > 0.5:\n",
    "    print(\"No, the person is not wearing a mask.\")\n",
    "else:\n",
    "    print(\"Yes, the person is wearing a mask.\")"
   ]
  },
  {
   "cell_type": "code",
   "execution_count": null,
   "metadata": {},
   "outputs": [
    {
     "name": "stdout",
     "output_type": "stream",
     "text": [
      "1/1 [==============================] - 0s 67ms/step\n",
      "No, the person is not wearing a mask.\n",
      "1/1 [==============================] - 0s 67ms/step\n",
      "No, the person is not wearing a mask.\n"
     ]
    }
   ],
   "source": [
    "from keras.preprocessing import image\n",
    "import numpy as np\n",
    "from keras.utils import load_img, img_to_array # Import load_img and img_to_array from tensorflow.keras.utils\n",
    "\n",
    "\n",
    "#to make prediction\n",
    "\n",
    "img_path = 'C:/Users/rajij/Downloads/testmodel6_no.jpg'\n",
    "img = load_img(img_path, target_size=(150, 150)) # Use load_img from tensorflow.keras.utils\n",
    "img_array = img_to_array(img) # Use img_to_array from tensorflow.keras.utils\n",
    "img_array = np.expand_dims(img_array, axis=0)\n",
    "img_array /= 255.0  # Normalize image\n",
    "\n",
    "prediction = model.predict(img_array)\n",
    "if prediction > 0.5:\n",
    "    print(\"No, the person is not wearing a mask.\")\n",
    "else:\n",
    "    print(\"Yes, the person is wearing a mask.\")"
   ]
  }
 ],
 "metadata": {
  "language_info": {
   "codemirror_mode": {
    "name": "ipython",
    "version": 3
   },
   "file_extension": ".py",
   "mimetype": "text/x-python",
   "name": "python",
   "nbconvert_exporter": "python",
   "pygments_lexer": "ipython3",
   "version": 3
  }
 },
 "nbformat": 4,
 "nbformat_minor": 2
}
