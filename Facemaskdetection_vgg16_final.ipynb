{
 "cells": [
  {
   "cell_type": "code",
   "execution_count": null,
   "id": "dd4e02ba-076b-4325-a55b-ce1c492f90de",
   "metadata": {},
   "outputs": [
    {
     "name": "stdout",
     "output_type": "stream",
     "text": [
      "Found 3069 images belonging to 2 classes.\n",
      "Found 764 images belonging to 2 classes.\n",
      "Downloading data from https://storage.googleapis.com/tensorflow/keras-applications/vgg16/vgg16_weights_tf_dim_ordering_tf_kernels_notop.h5\n",
      "58889256/58889256 [==============================] - 12s 0us/step\n",
      "Model: \"sequential\"\n",
      "_________________________________________________________________\n",
      " Layer (type)                Output Shape              Param #   \n",
      "=================================================================\n",
      " vgg16 (Functional)          (None, 7, 7, 512)         14714688  \n",
      "                                                                 \n",
      " global_average_pooling2d (G  (None, 512)              0         \n",
      " lobalAveragePooling2D)                                          \n",
      "                                                                 \n",
      " dense (Dense)               (None, 1)                 513       \n",
      "                                                                 \n",
      "=================================================================\n",
      "Total params: 14,715,201\n",
      "Trainable params: 513\n",
      "Non-trainable params: 14,714,688\n",
      "_________________________________________________________________\n",
      "Epoch 1/10\n",
      "11/95 [==>...........................] - ETA: 9:41 - loss: 0.7141 - accuracy: 0.4574"
     ]
    },
    {
     "name": "stderr",
     "output_type": "stream",
     "text": [
      "c:\\Users\\rajij\\anaconda3\\Lib\\site-packages\\PIL\\Image.py:981: UserWarning: Palette images with Transparency expressed in bytes should be converted to RGBA images\n",
      "  warnings.warn(\n"
     ]
    },
    {
     "name": "stdout",
     "output_type": "stream",
     "text": [
      "95/95 [==============================] - 847s 9s/step - loss: 0.6530 - accuracy: 0.6697 - val_loss: 0.5706 - val_accuracy: 0.9158\n",
      "Epoch 2/10\n",
      "95/95 [==============================] - 897s 9s/step - loss: 0.5430 - accuracy: 0.8561 - val_loss: 0.4668 - val_accuracy: 0.9565\n",
      "Epoch 3/10\n",
      "95/95 [==============================] - 925s 10s/step - loss: 0.4692 - accuracy: 0.8831 - val_loss: 0.4055 - val_accuracy: 0.9552\n",
      "Epoch 4/10\n",
      "95/95 [==============================] - 797s 8s/step - loss: 0.4228 - accuracy: 0.8851 - val_loss: 0.3701 - val_accuracy: 0.9375\n",
      "Epoch 5/10\n",
      "95/95 [==============================] - 976s 10s/step - loss: 0.3857 - accuracy: 0.8953 - val_loss: 0.3294 - val_accuracy: 0.9579\n",
      "Epoch 6/10\n",
      "95/95 [==============================] - 1022s 11s/step - loss: 0.3553 - accuracy: 0.9098 - val_loss: 0.2999 - val_accuracy: 0.9701\n",
      "Epoch 7/10\n",
      "95/95 [==============================] - 956s 10s/step - loss: 0.3357 - accuracy: 0.9032 - val_loss: 0.2820 - val_accuracy: 0.9715\n",
      "Epoch 8/10\n",
      "95/95 [==============================] - 912s 10s/step - loss: 0.3201 - accuracy: 0.9111 - val_loss: 0.2678 - val_accuracy: 0.9701\n",
      "Epoch 9/10\n",
      "95/95 [==============================] - 847s 9s/step - loss: 0.3038 - accuracy: 0.9174 - val_loss: 0.2525 - val_accuracy: 0.9701\n",
      "Epoch 10/10\n",
      "95/95 [==============================] - 854s 9s/step - loss: 0.2836 - accuracy: 0.9262 - val_loss: 0.2441 - val_accuracy: 0.9701\n",
      "Epoch 1/5\n",
      "95/95 [==============================] - 3052s 32s/step - loss: 0.0984 - accuracy: 0.9671 - val_loss: 0.0100 - val_accuracy: 0.9986\n",
      "Epoch 2/5\n",
      "95/95 [==============================] - 3160s 33s/step - loss: 0.0360 - accuracy: 0.9891 - val_loss: 0.0156 - val_accuracy: 0.9959\n",
      "Epoch 3/5\n",
      "95/95 [==============================] - 2955s 31s/step - loss: 0.0218 - accuracy: 0.9934 - val_loss: 0.0036 - val_accuracy: 0.9986\n",
      "Epoch 4/5\n",
      "95/95 [==============================] - 2816s 30s/step - loss: 0.0226 - accuracy: 0.9931 - val_loss: 0.0019 - val_accuracy: 0.9986\n",
      "Epoch 5/5\n",
      "95/95 [==============================] - 5911s 63s/step - loss: 0.0078 - accuracy: 0.9980 - val_loss: 0.0040 - val_accuracy: 0.9986\n",
      "24/24 [==============================] - 457s 19s/step\n",
      "              precision    recall  f1-score   support\n",
      "\n",
      "           0       0.51      0.51      0.51       382\n",
      "           1       0.51      0.51      0.51       382\n",
      "\n",
      "    accuracy                           0.51       764\n",
      "   macro avg       0.51      0.51      0.51       764\n",
      "weighted avg       0.51      0.51      0.51       764\n",
      "\n",
      "[[196 186]\n",
      " [187 195]]\n"
     ]
    },
    {
     "data": {
      "image/png": "[encoded data removed]",
      "text/plain": [
       "<Figure size 640x480 with 2 Axes>"
      ]
     },
     "metadata": {},
     "output_type": "display_data"
    }
   ],
   "source": [
    "import numpy as np\n",
    "import tensorflow as tf\n",
    "from tensorflow.keras import layers, models\n",
    "from tensorflow.keras.applications import VGG16\n",
    "from tensorflow.keras.preprocessing.image import ImageDataGenerator\n",
    "from sklearn.metrics import classification_report, confusion_matrix\n",
    "import matplotlib.pyplot as plt\n",
    "\n",
    "# to load and preprocess the images.\n",
    "\n",
    "# Preprocessing and augmentation\n",
    "train_datagen = ImageDataGenerator(\n",
    "    rescale=1./255,\n",
    "    rotation_range=20,\n",
    "    width_shift_range=0.2,\n",
    "    height_shift_range=0.2,\n",
    "    shear_range=0.2,\n",
    "    zoom_range=0.2,\n",
    "    horizontal_flip=True,\n",
    "    fill_mode='nearest')\n",
    "\n",
    "validation_datagen = ImageDataGenerator(rescale=1./255)\n",
    "\n",
    "train_dir = 'C:/Users/rajij/Downloads/dataset/train'\n",
    "val_dir = 'C:/Users/rajij/Downloads/dataset/test'\n",
    "\n",
    "train_generator = train_datagen.flow_from_directory(\n",
    "    train_dir,\n",
    "    target_size=(224, 224),  # VGG16 input size\n",
    "    batch_size=32,\n",
    "    class_mode='binary')\n",
    "\n",
    "validation_generator = validation_datagen.flow_from_directory(\n",
    "    val_dir,\n",
    "    target_size=(224, 224),\n",
    "    batch_size=32,\n",
    "    class_mode='binary')\n",
    "\n",
    "# Load the Pretrained VGG16 Model\n",
    "\n",
    "# Load VGG16 model without the top layers (i.e., classification layers)\n",
    "base_model = VGG16(weights='imagenet', include_top=False, input_shape=(224, 224, 3))\n",
    "\n",
    "# Freeze the convolutional layers\n",
    "base_model.trainable = False\n",
    "\n",
    "# Create a new model on top of VGG16\n",
    "model = models.Sequential([\n",
    "    base_model,\n",
    "    layers.GlobalAveragePooling2D(),\n",
    "    layers.Dense(1, activation='sigmoid')  # Binary classification: with mask or without mask\n",
    "])\n",
    "\n",
    "model.summary()\n",
    "\n",
    "#Compile the Model\n",
    "\n",
    "model.compile(optimizer='adam',\n",
    "              loss='binary_crossentropy',\n",
    "              metrics=['accuracy'])\n",
    "\n",
    "#Train the Model\n",
    "\n",
    "history = model.fit(\n",
    "    train_generator,\n",
    "    steps_per_epoch=train_generator.samples // train_generator.batch_size,\n",
    "    epochs=10,\n",
    "    validation_data=validation_generator,\n",
    "    validation_steps=validation_generator.samples // validation_generator.batch_size\n",
    ")\n",
    "\n",
    "#Fine-tuning the Model\n",
    "\n",
    "# Unfreeze the top layers of the base model\n",
    "base_model.trainable = True\n",
    "\n",
    "# Recompile the model after unfreezing layers\n",
    "model.compile(optimizer=tf.keras.optimizers.Adam(learning_rate=1e-5),\n",
    "              loss='binary_crossentropy',\n",
    "              metrics=['accuracy'])\n",
    "\n",
    "# Fine-tune the model\n",
    "history_fine_tune = model.fit(\n",
    "    train_generator,\n",
    "    steps_per_epoch=train_generator.samples // train_generator.batch_size,\n",
    "    epochs=5,\n",
    "    validation_data=validation_generator,\n",
    "    validation_steps=validation_generator.samples // validation_generator.batch_size\n",
    ")\n",
    "\n",
    "#. Evaluate the Model\n",
    "\n",
    "# Get predictions\n",
    "y_pred = model.predict(validation_generator, validation_generator.samples // validation_generator.batch_size)\n",
    "\n",
    "# Convert predictions to binary (0 or 1)\n",
    "y_pred_classes = (y_pred > 0.5).astype(int)\n",
    "\n",
    "# Get true labels\n",
    "y_true = validation_generator.classes\n",
    "\n",
    "# Classification report\n",
    "print(classification_report(y_true, y_pred_classes))\n",
    "\n",
    "# Confusion Matrix\n",
    "conf_matrix = confusion_matrix(y_true, y_pred_classes)\n",
    "print(conf_matrix)\n",
    "\n",
    "# Plot confusion matrix\n",
    "import seaborn as sns\n",
    "sns.heatmap(conf_matrix, annot=True, fmt=\"d\", cmap=\"Blues\", xticklabels=['With Mask', 'Without Mask'], yticklabels=['With Mask', 'Without Mask'])\n",
    "plt.xlabel('Predicted')\n",
    "plt.ylabel('True')\n",
    "plt.show()"
   ]
  },
  {
   "cell_type": "code",
   "execution_count": null,
   "metadata": {},
   "outputs": [
    {
     "name": "stdout",
     "output_type": "stream",
     "text": [
      "1/1 [==============================] - 1s 523ms/step\n",
      "No mask detected.\n",
      "1/1 [==============================] - 1s 523ms/step\n",
      "No mask detected.\n"
     ]
    }
   ],
   "source": [
    "import cv2\n",
    "import numpy as np\n",
    "\n",
    "# Load an image\n",
    "img_path = 'C:/Users/rajij/Downloads/testmodel1.jpg'\n",
    "img = cv2.imread(img_path)\n",
    "img = cv2.cvtColor(img, cv2.COLOR_BGR2RGB)\n",
    "img = cv2.resize(img, (224, 224))  # Resize to 224x224\n",
    "img = np.expand_dims(img, axis=0)  # Add batch dimension\n",
    "img = img / 255.0  # Rescale\n",
    "\n",
    "# Make prediction\n",
    "prediction = model.predict(img)\n",
    "if prediction[0] > 0.5:\n",
    "    print(\"Mask detected!\")\n",
    "else:\n",
    "    print(\"No mask detected.\")"
   ]
  },
  {
   "cell_type": "code",
   "execution_count": null,
   "metadata": {},
   "outputs": [
    {
     "name": "stdout",
     "output_type": "stream",
     "text": [
      "1/1 [==============================] - 0s 344ms/step\n",
      "No mask detected.\n",
      "1/1 [==============================] - 0s 344ms/step\n",
      "No mask detected.\n"
     ]
    }
   ],
   "source": [
    "img_path = 'C:/Users/rajij/Downloads/testmodel2.jpg'\n",
    "img = cv2.imread(img_path)\n",
    "img = cv2.cvtColor(img, cv2.COLOR_BGR2RGB)\n",
    "img = cv2.resize(img, (224, 224))  # Resize to 224x224\n",
    "img = np.expand_dims(img, axis=0)  # Add batch dimension\n",
    "img = img / 255.0  # Rescale\n",
    "\n",
    "# Make prediction\n",
    "prediction = model.predict(img)\n",
    "if prediction[0] > 0.5:\n",
    "    print(\"Mask detected!\")\n",
    "else:\n",
    "    print(\"No mask detected.\")"
   ]
  },
  {
   "cell_type": "code",
   "execution_count": null,
   "metadata": {},
   "outputs": [
    {
     "name": "stdout",
     "output_type": "stream",
     "text": [
      "1/1 [==============================] - 0s 403ms/step\n",
      "No mask detected.\n",
      "1/1 [==============================] - 0s 403ms/step\n",
      "No mask detected.\n"
     ]
    }
   ],
   "source": [
    "img_path = 'C:/Users/rajij/Downloads/testmodel4.jpg'\n",
    "img = cv2.imread(img_path)\n",
    "img = cv2.cvtColor(img, cv2.COLOR_BGR2RGB)\n",
    "img = cv2.resize(img, (224, 224))  # Resize to 224x224\n",
    "img = np.expand_dims(img, axis=0)  # Add batch dimension\n",
    "img = img / 255.0  # Rescale\n",
    "\n",
    "# Make prediction\n",
    "prediction = model.predict(img)\n",
    "if prediction[0] > 0.5:\n",
    "    print(\"Mask detected!\")\n",
    "else:\n",
    "    print(\"No mask detected.\")"
   ]
  },
  {
   "cell_type": "code",
   "execution_count": null,
   "metadata": {},
   "outputs": [
    {
     "ename": "error",
     "evalue": "OpenCV(4.10.0) D:\\a\\opencv-python\\opencv-python\\opencv\\modules\\imgproc\\src\\color.cpp:196: error: (-215:Assertion failed) !_src.empty() in function 'cv::cvtColor'\n",
     "output_type": "error",
     "traceback": [
      "\u001b[1;31m---------------------------------------------------------------------------\u001b[0m",
      "\u001b[1;31merror\u001b[0m                                     Traceback (most recent call last)",
      "Cell \u001b[1;32mIn[5], line 3\u001b[0m\n\u001b[0;32m      1\u001b[0m img_path \u001b[39m=\u001b[39m \u001b[39m'\u001b[39m\u001b[39mC:/Users/rajij/Downloads/testmodel6.jpg\u001b[39m\u001b[39m'\u001b[39m\n\u001b[0;32m      2\u001b[0m img \u001b[39m=\u001b[39m cv2\u001b[39m.\u001b[39mimread(img_path)\n\u001b[1;32m----> 3\u001b[0m img \u001b[39m=\u001b[39m cv2\u001b[39m.\u001b[39mcvtColor(img, cv2\u001b[39m.\u001b[39mCOLOR_BGR2RGB)\n\u001b[0;32m      4\u001b[0m img \u001b[39m=\u001b[39m cv2\u001b[39m.\u001b[39mresize(img, (\u001b[39m224\u001b[39m, \u001b[39m224\u001b[39m))  \u001b[39m# Resize to 224x224\u001b[39;00m\n\u001b[0;32m      5\u001b[0m img \u001b[39m=\u001b[39m np\u001b[39m.\u001b[39mexpand_dims(img, axis\u001b[39m=\u001b[39m\u001b[39m0\u001b[39m)  \u001b[39m# Add batch dimension\u001b[39;00m\n",
      "\u001b[1;31merror\u001b[0m: OpenCV(4.10.0) D:\\a\\opencv-python\\opencv-python\\opencv\\modules\\imgproc\\src\\color.cpp:196: error: (-215:Assertion failed) !_src.empty() in function 'cv::cvtColor'\n"
     ]
    }
   ],
   "source": [
    "img_path = 'C:/Users/rajij/Downloads/testmodel6.jpg'\n",
    "img = cv2.imread(img_path)\n",
    "img = cv2.cvtColor(img, cv2.COLOR_BGR2RGB)\n",
    "img = cv2.resize(img, (224, 224))  # Resize to 224x224\n",
    "img = np.expand_dims(img, axis=0)  # Add batch dimension\n",
    "img = img / 255.0  # Rescale\n",
    "\n",
    "# Make prediction\n",
    "prediction = model.predict(img)\n",
    "if prediction[0] > 0.5:\n",
    "    print(\"Mask detected!\")\n",
    "else:\n",
    "    print(\"No mask detected.\")"
   ]
  },
  {
   "cell_type": "code",
   "execution_count": null,
   "metadata": {},
   "outputs": [
    {
     "name": "stdout",
     "output_type": "stream",
     "text": [
      "1/1 [==============================] - 0s 382ms/step\n",
      "No mask detected.\n",
      "1/1 [==============================] - 0s 382ms/step\n",
      "No mask detected.\n"
     ]
    }
   ],
   "source": [
    "img_path = 'C:/Users/rajij/Downloads/testmodel7.jpg'\n",
    "img = cv2.imread(img_path)\n",
    "img = cv2.cvtColor(img, cv2.COLOR_BGR2RGB)\n",
    "img = cv2.resize(img, (224, 224))  # Resize to 224x224\n",
    "img = np.expand_dims(img, axis=0)  # Add batch dimension\n",
    "img = img / 255.0  # Rescale\n",
    "\n",
    "# Make prediction\n",
    "prediction = model.predict(img)\n",
    "if prediction[0] > 0.5:\n",
    "    print(\"Mask detected!\")\n",
    "else:\n",
    "    print(\"No mask detected.\")"
   ]
  },
  {
   "cell_type": "code",
   "execution_count": null,
   "metadata": {},
   "outputs": [
    {
     "ename": "SyntaxError",
     "evalue": "incomplete input (<ipython-input-7-7f0ad4f271ce>, line 12)",
     "output_type": "error",
     "traceback": [
      "\u001b[1;36m  Cell \u001b[1;32mIn[7], line 12\u001b[1;36m\u001b[0m\n\u001b[1;33m    else:\u001b[0m\n\u001b[1;37m         ^\u001b[0m\n\u001b[1;31mSyntaxError\u001b[0m\u001b[1;31m:\u001b[0m incomplete input\n"
     ]
    }
   ],
   "source": [
    "img_path = 'C:/Users/rajij/Downloads/testmodel3_no.jpg'\n",
    "img = cv2.imread(img_path)\n",
    "img = cv2.cvtColor(img, cv2.COLOR_BGR2RGB)\n",
    "img = cv2.resize(img, (224, 224))  # Resize to 224x224\n",
    "img = np.expand_dims(img, axis=0)  # Add batch dimension\n",
    "img = img / 255.0  # Rescale\n",
    "\n",
    "# Make prediction\n",
    "prediction = model.predict(img)\n",
    "if prediction[0] > 0.5:\n",
    "    print(\"Mask detected!\")\n",
    "else:"
   ]
  },
  {
   "cell_type": "code",
   "execution_count": null,
   "metadata": {},
   "outputs": [
    {
     "name": "stdout",
     "output_type": "stream",
     "text": [
      "1/1 [==============================] - 0s 370ms/step\n",
      "Mask detected!\n",
      "1/1 [==============================] - 0s 370ms/step\n",
      "Mask detected!\n"
     ]
    }
   ],
   "source": [
    "img_path = 'C:/Users/rajij/Downloads/testmodel3_no.jpg'\n",
    "img = cv2.imread(img_path)\n",
    "img = cv2.cvtColor(img, cv2.COLOR_BGR2RGB)\n",
    "img = cv2.resize(img, (224, 224))  # Resize to 224x224\n",
    "img = np.expand_dims(img, axis=0)  # Add batch dimension\n",
    "img = img / 255.0  # Rescale\n",
    "\n",
    "# Make prediction\n",
    "prediction = model.predict(img)\n",
    "if prediction[0] > 0.5:\n",
    "    print(\"Mask detected!\")\n",
    "else:\n",
    "    print(\"No mask detected.\")"
   ]
  },
  {
   "cell_type": "code",
   "execution_count": null,
   "metadata": {},
   "outputs": [
    {
     "name": "stdout",
     "output_type": "stream",
     "text": [
      "1/1 [==============================] - 0s 430ms/step\n",
      "Mask detected!\n",
      "1/1 [==============================] - 0s 430ms/step\n",
      "Mask detected!\n"
     ]
    }
   ],
   "source": [
    "img_path = 'C:/Users/rajij/Downloads/testmodel6_no.jpg'\n",
    "img = cv2.imread(img_path)\n",
    "img = cv2.cvtColor(img, cv2.COLOR_BGR2RGB)\n",
    "img = cv2.resize(img, (224, 224))  # Resize to 224x224\n",
    "img = np.expand_dims(img, axis=0)  # Add batch dimension\n",
    "img = img / 255.0  # Rescale\n",
    "\n",
    "# Make prediction\n",
    "prediction = model.predict(img)\n",
    "if prediction[0] > 0.5:\n",
    "    print(\"Mask detected!\")\n",
    "else:\n",
    "    print(\"No mask detected.\")"
   ]
  },
  {
   "cell_type": "code",
   "execution_count": null,
   "metadata": {},
   "outputs": [
    {
     "name": "stdout",
     "output_type": "stream",
     "text": [
      "1/1 [==============================] - 0s 396ms/step\n",
      "Mask detected.\n",
      "1/1 [==============================] - 0s 396ms/step\n",
      "Mask detected.\n"
     ]
    }
   ],
   "source": [
    "img_path = 'C:/Users/rajij/Downloads/testmodel1.jpg'\n",
    "img = cv2.imread(img_path)\n",
    "img = cv2.cvtColor(img, cv2.COLOR_BGR2RGB)\n",
    "img = cv2.resize(img, (224, 224))  # Resize to 224x224\n",
    "img = np.expand_dims(img, axis=0)  # Add batch dimension\n",
    "img = img / 255.0  # Rescale\n",
    "\n",
    "# Make prediction\n",
    "prediction = model.predict(img)\n",
    "if prediction[0] > 0.5:\n",
    "    print(\"No Mask detected!\")\n",
    "else:\n",
    "    print(\"Mask detected.\")"
   ]
  },
  {
   "cell_type": "code",
   "execution_count": null,
   "metadata": {},
   "outputs": [
    {
     "name": "stdout",
     "output_type": "stream",
     "text": [
      "[[3.0339448e-05]]\n"
     ]
    }
   ],
   "source": [
    "print(prediction)\n"
   ]
  },
  {
   "cell_type": "code",
   "execution_count": null,
   "metadata": {},
   "outputs": [
    {
     "name": "stdout",
     "output_type": "stream",
     "text": [
      "1/1 [==============================] - 0s 397ms/step\n",
      "1/1 [==============================] - 0s 397ms/step\n",
      "[[1.]]\n",
      "Mask detected!\n"
     ]
    }
   ],
   "source": [
    "img_path = 'C:/Users/rajij/Downloads/testmodel6_no.jpg'\n",
    "img = cv2.imread(img_path)\n",
    "img = cv2.cvtColor(img, cv2.COLOR_BGR2RGB)\n",
    "img = cv2.resize(img, (224, 224))  # Resize to 224x224\n",
    "img = np.expand_dims(img, axis=0)  # Add batch dimension\n",
    "img = img / 255.0  # Rescale\n",
    "\n",
    "# Make prediction\n",
    "prediction = model.predict(img)\n",
    "print(prediction)\n",
    "if prediction[0] > 0.5:\n",
    "    print(\"Mask detected!\")\n",
    "else:\n",
    "    print(\"No mask detected.\")"
   ]
  },
  {
   "cell_type": "code",
   "execution_count": null,
   "metadata": {},
   "outputs": [
    {
     "name": "stdout",
     "output_type": "stream",
     "text": [
      "{'with_mask': 0, 'without_mask': 1}\n"
     ]
    }
   ],
   "source": [
    "# You can check how the labels are assigned by the generator\n",
    "print(train_generator.class_indices)  # {'no_mask': 0, 'mask': 1}\n"
   ]
  },
  {
   "cell_type": "code",
   "execution_count": 1,
   "metadata": {},
   "outputs": [],
   "source": [
    "from tensorflow.keras.models import load_model\n",
    "\n",
    "# Load the saved VGG16 model\n",
    "model = load_model(\"C:/Users/rajij/Streamlit_Home Page/Face Mask Detection/vgg16_model\")\n"
   ]
  },
  {
   "cell_type": "code",
   "execution_count": null,
   "metadata": {},
   "outputs": [
    {
     "name": "stdout",
     "output_type": "stream",
     "text": [
      "Found 764 images belonging to 2 classes.\n",
      "24/24 [==============================] - 179s 7s/step\n",
      "Accuracy: 0.4908376963350785\n",
      "Precision: 0.49081364829396323\n",
      "Recall: 0.4895287958115183\n",
      "F1-score: 0.49017038007863695\n",
      "Confusion Matrix:\n",
      "[[188 194]\n",
      " [195 187]]\n"
     ]
    }
   ],
   "source": [
    "from sklearn.metrics import accuracy_score, precision_score, recall_score, f1_score\n",
    "\n",
    "import numpy as np\n",
    "import tensorflow as tf\n",
    "from tensorflow.keras import layers, models\n",
    "from tensorflow.keras.applications import VGG16\n",
    "from tensorflow.keras.preprocessing.image import ImageDataGenerator\n",
    "import matplotlib.pyplot as plt\n",
    "\n",
    "\n",
    "from tensorflow.keras.models import load_model\n",
    "\n",
    "# Load the saved VGG16 model\n",
    "model = load_model(\"C:/Users/rajij/Streamlit_Home Page/Face Mask Detection/vgg16_model\")\n",
    "\n",
    "validation_datagen = ImageDataGenerator(rescale=1./255)\n",
    "\n",
    "val_dir = 'C:/Users/rajij/Downloads/dataset/test'\n",
    "\n",
    "validation_generator = validation_datagen.flow_from_directory(\n",
    "    val_dir,\n",
    "    target_size=(224, 224),\n",
    "    batch_size=32,\n",
    "    class_mode='binary')\n",
    "\n",
    "# Evaluate the model on validation data\n",
    "val_labels = validation_generator.classes  # Actual labels\n",
    "y_pred_probs = model.predict(validation_generator)  # Predicted probabilities\n",
    "y_pred = (y_pred_probs > 0.5).astype(int)  # Convert probabilities to binary predictions\n",
    "\n",
    "# Calculate the evaluation metrics\n",
    "accuracy = accuracy_score(val_labels, y_pred)\n",
    "precision = precision_score(val_labels, y_pred)\n",
    "recall = recall_score(val_labels, y_pred)\n",
    "f1 = f1_score(val_labels, y_pred)\n",
    "conf_matrix = confusion_matrix(val_labels, y_pred)\n",
    "\n",
    "# Print evaluation results\n",
    "print(f'Accuracy: {accuracy}')\n",
    "print(f'Precision: {precision}')\n",
    "print(f'Recall: {recall}')\n",
    "print(f'F1-score: {f1}')\n",
    "print(f'Confusion Matrix:\\n{conf_matrix}')"
   ]
  }
 ],
 "metadata": {
  "kernelspec": {
   "display_name": "base",
   "language": "python",
   "name": "python3"
  },
  "language_info": {
   "codemirror_mode": {
    "name": "ipython",
    "version": 3
   },
   "file_extension": ".py",
   "mimetype": "text/x-python",
   "name": "python",
   "nbconvert_exporter": "python",
   "pygments_lexer": "ipython3",
   "version": "3.11.7"
  }
 },
 "nbformat": 4,
 "nbformat_minor": 2
}
